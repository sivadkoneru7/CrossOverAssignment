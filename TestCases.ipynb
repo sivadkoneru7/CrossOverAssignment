{
 "cells": [
  {
   "cell_type": "code",
   "execution_count": 16,
   "metadata": {},
   "outputs": [],
   "source": [
    "import http.client\n",
    "import json\n",
    "from concurrent.futures import ThreadPoolExecutor, as_completed\n",
    "REDIS_URL = 'mbad1su6x4.execute-api.us-east-1.amazonaws.com'\n",
    "MEMCACHE_URL = 'muka7ucb0a.execute-api.us-east-1.amazonaws.com'"
   ]
  },
  {
   "cell_type": "code",
   "execution_count": 17,
   "metadata": {},
   "outputs": [],
   "source": [
    "def sendRequest(url, method, body):\n",
    "  conn = http.client.HTTPSConnection(url)\n",
    "  payload = json.dumps(body)\n",
    "  headers = {\n",
    "    'content-type': 'application/json'\n",
    "  }\n",
    "  conn.request(\"POST\", f'/prod/{method}', payload, headers)\n",
    "  res = conn.getresponse()\n",
    "  return json.loads(res.read())\n",
    "def resetRedis():\n",
    "  sendRequest(REDIS_URL, 'reset-redis', {})\n",
    "def resetMemcache():\n",
    "  sendRequest(REDIS_URL, 'reset-memcached', {})"
   ]
  },
  {
   "cell_type": "code",
   "execution_count": 65,
   "metadata": {},
   "outputs": [],
   "source": [
    "class TestCache:\n",
    "    def __init__(self):\n",
    "        url = ''\n",
    "        chargeUrl = ''\n",
    "        resetUrl = ''\n",
    "    \n",
    "    def testBasicCase(self):\n",
    "        sendRequest(self.url, self.resetUrl, {})\n",
    "        for i in range(120):\n",
    "            res = sendRequest(self.url, self.chargeUrl, {'unit': 1})\n",
    "            if i < 100:\n",
    "                assert res['isAuthorized'] == True\n",
    "                assert res['remainingBalance'] == 100-i-1\n",
    "            else:\n",
    "                if res['isAuthorized']:\n",
    "                    assert res['isAuthorized'] == False\n",
    "            assert res['remainingBalance'] >= 0\n",
    "    def testConcurrentCase(self):\n",
    "        sendRequest(self.url, self.resetUrl, {})\n",
    "        futures = []\n",
    "        count = 0\n",
    "        with ThreadPoolExecutor() as e:\n",
    "            for i in range(120):\n",
    "                futures.append(e.submit(sendRequest, url=self.url, method = self.chargeUrl, body = {'unit': 1}))\n",
    "            for f in as_completed(futures):\n",
    "                if 'isAuthorized' in f.result() and f.result()['isAuthorized']:\n",
    "                    count+=1\n",
    "                if 'remainingBalance' in f.result():\n",
    "                    assert f.result()['remainingBalance'] >= 0\n",
    "        assert count == 100"
   ]
  },
  {
   "cell_type": "code",
   "execution_count": 68,
   "metadata": {},
   "outputs": [],
   "source": [
    "class RedisTest(TestCache):\n",
    "    def __init__(self):\n",
    "        self.url = REDIS_URL\n",
    "        self.chargeUrl = 'charge-request-redis'\n",
    "        self.resetUrl = 'reset-redis'\n",
    "class MemCacheTest(TestCache):\n",
    "    def __init__(self):\n",
    "        self.url = MEMCACHE_URL\n",
    "        self.chargeUrl = 'charge-request-memcached'\n",
    "        self.resetUrl = 'reset-memcached'"
   ]
  },
  {
   "cell_type": "code",
   "execution_count": 69,
   "metadata": {},
   "outputs": [],
   "source": [
    "r = RedisTest()\n",
    "r.testBasicCase()\n",
    "r.testConcurrentCase()"
   ]
  },
  {
   "cell_type": "code",
   "execution_count": null,
   "metadata": {},
   "outputs": [],
   "source": [
    "m = MemCacheTest()\n",
    "m.testBasicCase()\n",
    "m.testConcurrentCase()"
   ]
  }
 ],
 "metadata": {
  "kernelspec": {
   "display_name": "base",
   "language": "python",
   "name": "python3"
  },
  "language_info": {
   "codemirror_mode": {
    "name": "ipython",
    "version": 3
   },
   "file_extension": ".py",
   "mimetype": "text/x-python",
   "name": "python",
   "nbconvert_exporter": "python",
   "pygments_lexer": "ipython3",
   "version": "3.9.12"
  },
  "orig_nbformat": 4
 },
 "nbformat": 4,
 "nbformat_minor": 2
}
